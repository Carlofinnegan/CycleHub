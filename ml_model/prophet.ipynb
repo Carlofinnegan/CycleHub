{
 "cells": [
  {
   "cell_type": "code",
   "execution_count": 1,
   "metadata": {},
   "outputs": [],
   "source": [
    "import pandas as pd\n",
    "from sklearn.model_selection import train_test_split\n",
    "import numpy as np\n",
    "df = pd.read_csv('availability.csv')\n",
    "\n",
    "df.rename(columns={'last_update': 'time_of_day'}, inplace=True)\n",
    "df = df.drop(columns=[\"status\"])\n",
    "df['time_of_day'] = pd.to_datetime(df['time_of_day'])\n",
    "\n",
    "specified_date_time = pd.to_datetime('2024-02-25 15:03:04')\n",
    "\n",
    "df = df[df['time_of_day'] >= specified_date_time]\n",
    "df2 = pd.read_csv('weather.csv')\n",
    "df2['time_of_day'] = pd.to_datetime(df2['time_of_day'])\n",
    "df2 = df2.drop(columns=[\"main\"])\n",
    "\n",
    "merged_df = pd.merge_asof(df.sort_values('time_of_day'), df2.sort_values('time_of_day'), \n",
    "                          by='station_id', on='time_of_day', direction='nearest')\n",
    "\n",
    "\n"
   ]
  },
  {
   "cell_type": "code",
   "execution_count": 2,
   "metadata": {},
   "outputs": [
    {
     "data": {
      "text/html": [
       "<div>\n",
       "<style scoped>\n",
       "    .dataframe tbody tr th:only-of-type {\n",
       "        vertical-align: middle;\n",
       "    }\n",
       "\n",
       "    .dataframe tbody tr th {\n",
       "        vertical-align: top;\n",
       "    }\n",
       "\n",
       "    .dataframe thead th {\n",
       "        text-align: right;\n",
       "    }\n",
       "</style>\n",
       "<table border=\"1\" class=\"dataframe\">\n",
       "  <thead>\n",
       "    <tr style=\"text-align: right;\">\n",
       "      <th></th>\n",
       "      <th>station_id</th>\n",
       "      <th>time_of_day</th>\n",
       "      <th>available_bike_stands</th>\n",
       "      <th>bike_stands</th>\n",
       "      <th>available_bikes</th>\n",
       "      <th>description</th>\n",
       "      <th>temperature</th>\n",
       "      <th>wind_speed</th>\n",
       "    </tr>\n",
       "  </thead>\n",
       "  <tbody>\n",
       "    <tr>\n",
       "      <th>0</th>\n",
       "      <td>42</td>\n",
       "      <td>2024-02-25 15:03:04</td>\n",
       "      <td>0</td>\n",
       "      <td>30</td>\n",
       "      <td>30</td>\n",
       "      <td>broken clouds</td>\n",
       "      <td>7</td>\n",
       "      <td>9.77</td>\n",
       "    </tr>\n",
       "    <tr>\n",
       "      <th>1</th>\n",
       "      <td>51</td>\n",
       "      <td>2024-02-25 15:03:06</td>\n",
       "      <td>34</td>\n",
       "      <td>40</td>\n",
       "      <td>6</td>\n",
       "      <td>broken clouds</td>\n",
       "      <td>8</td>\n",
       "      <td>9.77</td>\n",
       "    </tr>\n",
       "    <tr>\n",
       "      <th>2</th>\n",
       "      <td>32</td>\n",
       "      <td>2024-02-25 15:03:06</td>\n",
       "      <td>0</td>\n",
       "      <td>30</td>\n",
       "      <td>30</td>\n",
       "      <td>broken clouds</td>\n",
       "      <td>8</td>\n",
       "      <td>9.77</td>\n",
       "    </tr>\n",
       "    <tr>\n",
       "      <th>3</th>\n",
       "      <td>18</td>\n",
       "      <td>2024-02-25 15:03:07</td>\n",
       "      <td>6</td>\n",
       "      <td>30</td>\n",
       "      <td>24</td>\n",
       "      <td>broken clouds</td>\n",
       "      <td>7</td>\n",
       "      <td>9.77</td>\n",
       "    </tr>\n",
       "    <tr>\n",
       "      <th>4</th>\n",
       "      <td>57</td>\n",
       "      <td>2024-02-25 15:03:08</td>\n",
       "      <td>23</td>\n",
       "      <td>23</td>\n",
       "      <td>0</td>\n",
       "      <td>broken clouds</td>\n",
       "      <td>7</td>\n",
       "      <td>9.77</td>\n",
       "    </tr>\n",
       "    <tr>\n",
       "      <th>...</th>\n",
       "      <td>...</td>\n",
       "      <td>...</td>\n",
       "      <td>...</td>\n",
       "      <td>...</td>\n",
       "      <td>...</td>\n",
       "      <td>...</td>\n",
       "      <td>...</td>\n",
       "      <td>...</td>\n",
       "    </tr>\n",
       "    <tr>\n",
       "      <th>490185</th>\n",
       "      <td>28</td>\n",
       "      <td>2024-03-20 22:49:29</td>\n",
       "      <td>26</td>\n",
       "      <td>30</td>\n",
       "      <td>4</td>\n",
       "      <td>clear sky</td>\n",
       "      <td>6</td>\n",
       "      <td>4.12</td>\n",
       "    </tr>\n",
       "    <tr>\n",
       "      <th>490186</th>\n",
       "      <td>108</td>\n",
       "      <td>2024-03-20 22:49:33</td>\n",
       "      <td>27</td>\n",
       "      <td>35</td>\n",
       "      <td>8</td>\n",
       "      <td>clear sky</td>\n",
       "      <td>5</td>\n",
       "      <td>4.12</td>\n",
       "    </tr>\n",
       "    <tr>\n",
       "      <th>490187</th>\n",
       "      <td>56</td>\n",
       "      <td>2024-03-20 22:49:34</td>\n",
       "      <td>27</td>\n",
       "      <td>40</td>\n",
       "      <td>13</td>\n",
       "      <td>clear sky</td>\n",
       "      <td>6</td>\n",
       "      <td>4.12</td>\n",
       "    </tr>\n",
       "    <tr>\n",
       "      <th>490188</th>\n",
       "      <td>90</td>\n",
       "      <td>2024-03-20 22:49:37</td>\n",
       "      <td>37</td>\n",
       "      <td>40</td>\n",
       "      <td>3</td>\n",
       "      <td>clear sky</td>\n",
       "      <td>6</td>\n",
       "      <td>4.12</td>\n",
       "    </tr>\n",
       "    <tr>\n",
       "      <th>490189</th>\n",
       "      <td>62</td>\n",
       "      <td>2024-03-20 22:49:39</td>\n",
       "      <td>40</td>\n",
       "      <td>40</td>\n",
       "      <td>0</td>\n",
       "      <td>clear sky</td>\n",
       "      <td>6</td>\n",
       "      <td>4.12</td>\n",
       "    </tr>\n",
       "  </tbody>\n",
       "</table>\n",
       "<p>490190 rows × 8 columns</p>\n",
       "</div>"
      ],
      "text/plain": [
       "        station_id         time_of_day  available_bike_stands  bike_stands  \\\n",
       "0               42 2024-02-25 15:03:04                      0           30   \n",
       "1               51 2024-02-25 15:03:06                     34           40   \n",
       "2               32 2024-02-25 15:03:06                      0           30   \n",
       "3               18 2024-02-25 15:03:07                      6           30   \n",
       "4               57 2024-02-25 15:03:08                     23           23   \n",
       "...            ...                 ...                    ...          ...   \n",
       "490185          28 2024-03-20 22:49:29                     26           30   \n",
       "490186         108 2024-03-20 22:49:33                     27           35   \n",
       "490187          56 2024-03-20 22:49:34                     27           40   \n",
       "490188          90 2024-03-20 22:49:37                     37           40   \n",
       "490189          62 2024-03-20 22:49:39                     40           40   \n",
       "\n",
       "        available_bikes    description  temperature  wind_speed  \n",
       "0                    30  broken clouds            7        9.77  \n",
       "1                     6  broken clouds            8        9.77  \n",
       "2                    30  broken clouds            8        9.77  \n",
       "3                    24  broken clouds            7        9.77  \n",
       "4                     0  broken clouds            7        9.77  \n",
       "...                 ...            ...          ...         ...  \n",
       "490185                4      clear sky            6        4.12  \n",
       "490186                8      clear sky            5        4.12  \n",
       "490187               13      clear sky            6        4.12  \n",
       "490188                3      clear sky            6        4.12  \n",
       "490189                0      clear sky            6        4.12  \n",
       "\n",
       "[490190 rows x 8 columns]"
      ]
     },
     "execution_count": 2,
     "metadata": {},
     "output_type": "execute_result"
    }
   ],
   "source": [
    "merged_df['wind_speed'] = merged_df['wind_speed'].interpolate(method='linear')\n",
    "merged_df['temperature'] = merged_df['temperature'].interpolate(method='linear')\n",
    "merged_df\n"
   ]
  },
  {
   "cell_type": "code",
   "execution_count": 3,
   "metadata": {},
   "outputs": [],
   "source": [
    "df = merged_df[['time_of_day', 'station_id', \"wind_speed\", \"temperature\", \"available_bikes\",\"available_bike_stands\",\"bike_stands\"]]"
   ]
  },
  {
   "cell_type": "code",
   "execution_count": 4,
   "metadata": {},
   "outputs": [
    {
     "data": {
      "text/html": [
       "<div>\n",
       "<style scoped>\n",
       "    .dataframe tbody tr th:only-of-type {\n",
       "        vertical-align: middle;\n",
       "    }\n",
       "\n",
       "    .dataframe tbody tr th {\n",
       "        vertical-align: top;\n",
       "    }\n",
       "\n",
       "    .dataframe thead th {\n",
       "        text-align: right;\n",
       "    }\n",
       "</style>\n",
       "<table border=\"1\" class=\"dataframe\">\n",
       "  <thead>\n",
       "    <tr style=\"text-align: right;\">\n",
       "      <th></th>\n",
       "      <th>ds</th>\n",
       "      <th>station_id</th>\n",
       "      <th>wind_speed</th>\n",
       "      <th>temperature</th>\n",
       "      <th>y</th>\n",
       "      <th>available_bike_stands</th>\n",
       "      <th>bike_stands</th>\n",
       "    </tr>\n",
       "  </thead>\n",
       "  <tbody>\n",
       "    <tr>\n",
       "      <th>0</th>\n",
       "      <td>2024-02-25 15:03:04</td>\n",
       "      <td>42</td>\n",
       "      <td>9.77</td>\n",
       "      <td>7</td>\n",
       "      <td>30</td>\n",
       "      <td>0</td>\n",
       "      <td>30</td>\n",
       "    </tr>\n",
       "    <tr>\n",
       "      <th>1</th>\n",
       "      <td>2024-02-25 15:03:06</td>\n",
       "      <td>51</td>\n",
       "      <td>9.77</td>\n",
       "      <td>8</td>\n",
       "      <td>6</td>\n",
       "      <td>34</td>\n",
       "      <td>40</td>\n",
       "    </tr>\n",
       "    <tr>\n",
       "      <th>2</th>\n",
       "      <td>2024-02-25 15:03:06</td>\n",
       "      <td>32</td>\n",
       "      <td>9.77</td>\n",
       "      <td>8</td>\n",
       "      <td>30</td>\n",
       "      <td>0</td>\n",
       "      <td>30</td>\n",
       "    </tr>\n",
       "    <tr>\n",
       "      <th>3</th>\n",
       "      <td>2024-02-25 15:03:07</td>\n",
       "      <td>18</td>\n",
       "      <td>9.77</td>\n",
       "      <td>7</td>\n",
       "      <td>24</td>\n",
       "      <td>6</td>\n",
       "      <td>30</td>\n",
       "    </tr>\n",
       "    <tr>\n",
       "      <th>4</th>\n",
       "      <td>2024-02-25 15:03:08</td>\n",
       "      <td>57</td>\n",
       "      <td>9.77</td>\n",
       "      <td>7</td>\n",
       "      <td>0</td>\n",
       "      <td>23</td>\n",
       "      <td>23</td>\n",
       "    </tr>\n",
       "    <tr>\n",
       "      <th>...</th>\n",
       "      <td>...</td>\n",
       "      <td>...</td>\n",
       "      <td>...</td>\n",
       "      <td>...</td>\n",
       "      <td>...</td>\n",
       "      <td>...</td>\n",
       "      <td>...</td>\n",
       "    </tr>\n",
       "    <tr>\n",
       "      <th>135</th>\n",
       "      <td>2024-02-25 15:13:03</td>\n",
       "      <td>47</td>\n",
       "      <td>9.77</td>\n",
       "      <td>8</td>\n",
       "      <td>2</td>\n",
       "      <td>38</td>\n",
       "      <td>40</td>\n",
       "    </tr>\n",
       "    <tr>\n",
       "      <th>136</th>\n",
       "      <td>2024-02-25 15:13:03</td>\n",
       "      <td>7</td>\n",
       "      <td>9.77</td>\n",
       "      <td>8</td>\n",
       "      <td>0</td>\n",
       "      <td>29</td>\n",
       "      <td>29</td>\n",
       "    </tr>\n",
       "    <tr>\n",
       "      <th>137</th>\n",
       "      <td>2024-02-25 15:13:09</td>\n",
       "      <td>42</td>\n",
       "      <td>9.77</td>\n",
       "      <td>7</td>\n",
       "      <td>30</td>\n",
       "      <td>0</td>\n",
       "      <td>30</td>\n",
       "    </tr>\n",
       "    <tr>\n",
       "      <th>138</th>\n",
       "      <td>2024-02-25 15:13:10</td>\n",
       "      <td>100</td>\n",
       "      <td>9.77</td>\n",
       "      <td>7</td>\n",
       "      <td>8</td>\n",
       "      <td>17</td>\n",
       "      <td>25</td>\n",
       "    </tr>\n",
       "    <tr>\n",
       "      <th>139</th>\n",
       "      <td>2024-02-25 15:13:11</td>\n",
       "      <td>51</td>\n",
       "      <td>9.77</td>\n",
       "      <td>8</td>\n",
       "      <td>6</td>\n",
       "      <td>34</td>\n",
       "      <td>40</td>\n",
       "    </tr>\n",
       "  </tbody>\n",
       "</table>\n",
       "<p>140 rows × 7 columns</p>\n",
       "</div>"
      ],
      "text/plain": [
       "                     ds  station_id  wind_speed  temperature   y  \\\n",
       "0   2024-02-25 15:03:04          42        9.77            7  30   \n",
       "1   2024-02-25 15:03:06          51        9.77            8   6   \n",
       "2   2024-02-25 15:03:06          32        9.77            8  30   \n",
       "3   2024-02-25 15:03:07          18        9.77            7  24   \n",
       "4   2024-02-25 15:03:08          57        9.77            7   0   \n",
       "..                  ...         ...         ...          ...  ..   \n",
       "135 2024-02-25 15:13:03          47        9.77            8   2   \n",
       "136 2024-02-25 15:13:03           7        9.77            8   0   \n",
       "137 2024-02-25 15:13:09          42        9.77            7  30   \n",
       "138 2024-02-25 15:13:10         100        9.77            7   8   \n",
       "139 2024-02-25 15:13:11          51        9.77            8   6   \n",
       "\n",
       "     available_bike_stands  bike_stands  \n",
       "0                        0           30  \n",
       "1                       34           40  \n",
       "2                        0           30  \n",
       "3                        6           30  \n",
       "4                       23           23  \n",
       "..                     ...          ...  \n",
       "135                     38           40  \n",
       "136                     29           29  \n",
       "137                      0           30  \n",
       "138                     17           25  \n",
       "139                     34           40  \n",
       "\n",
       "[140 rows x 7 columns]"
      ]
     },
     "execution_count": 4,
     "metadata": {},
     "output_type": "execute_result"
    }
   ],
   "source": [
    "df = df.rename(columns={'time_of_day': 'ds', 'available_bikes': 'y'})\n",
    "\n",
    "\n",
    "df.head(140)"
   ]
  },
  {
   "cell_type": "code",
   "execution_count": 5,
   "metadata": {},
   "outputs": [],
   "source": [
    "train = df.loc[df['ds'] < '2024-03-05']\n",
    "valid = df.loc[(df['ds'] >= '2024-03-05') & (df['ds'] < '2024-03-20')]\n"
   ]
  },
  {
   "cell_type": "code",
   "execution_count": 12,
   "metadata": {},
   "outputs": [
    {
     "name": "stderr",
     "output_type": "stream",
     "text": [
      "10:47:49 - cmdstanpy - INFO - Chain [1] start processing\n",
      "10:47:49 - cmdstanpy - INFO - Chain [1] done processing\n"
     ]
    },
    {
     "name": "stdout",
     "output_type": "stream",
     "text": [
      "station_id: 42\n"
     ]
    },
    {
     "name": "stderr",
     "output_type": "stream",
     "text": [
      "10:47:49 - cmdstanpy - INFO - Chain [1] start processing\n"
     ]
    },
    {
     "name": "stdout",
     "output_type": "stream",
     "text": [
      "station_id: 51\n"
     ]
    },
    {
     "name": "stderr",
     "output_type": "stream",
     "text": [
      "10:47:49 - cmdstanpy - INFO - Chain [1] done processing\n",
      "10:47:49 - cmdstanpy - INFO - Chain [1] start processing\n"
     ]
    },
    {
     "name": "stdout",
     "output_type": "stream",
     "text": [
      "station_id: 32\n"
     ]
    },
    {
     "name": "stderr",
     "output_type": "stream",
     "text": [
      "10:47:49 - cmdstanpy - INFO - Chain [1] done processing\n",
      "10:47:50 - cmdstanpy - INFO - Chain [1] start processing\n",
      "10:47:50 - cmdstanpy - INFO - Chain [1] done processing\n"
     ]
    },
    {
     "name": "stdout",
     "output_type": "stream",
     "text": [
      "station_id: 18\n"
     ]
    },
    {
     "name": "stderr",
     "output_type": "stream",
     "text": [
      "10:47:50 - cmdstanpy - INFO - Chain [1] start processing\n",
      "10:47:50 - cmdstanpy - INFO - Chain [1] done processing\n"
     ]
    },
    {
     "name": "stdout",
     "output_type": "stream",
     "text": [
      "station_id: 57\n"
     ]
    },
    {
     "name": "stderr",
     "output_type": "stream",
     "text": [
      "10:47:50 - cmdstanpy - INFO - Chain [1] start processing\n",
      "10:47:50 - cmdstanpy - INFO - Chain [1] done processing\n"
     ]
    },
    {
     "name": "stdout",
     "output_type": "stream",
     "text": [
      "station_id: 82\n"
     ]
    },
    {
     "name": "stderr",
     "output_type": "stream",
     "text": [
      "10:47:51 - cmdstanpy - INFO - Chain [1] start processing\n",
      "10:47:51 - cmdstanpy - INFO - Chain [1] done processing\n"
     ]
    },
    {
     "name": "stdout",
     "output_type": "stream",
     "text": [
      "station_id: 92\n"
     ]
    },
    {
     "name": "stderr",
     "output_type": "stream",
     "text": [
      "10:47:51 - cmdstanpy - INFO - Chain [1] start processing\n",
      "10:47:51 - cmdstanpy - INFO - Chain [1] done processing\n"
     ]
    },
    {
     "name": "stdout",
     "output_type": "stream",
     "text": [
      "station_id: 17\n"
     ]
    },
    {
     "name": "stderr",
     "output_type": "stream",
     "text": [
      "10:47:51 - cmdstanpy - INFO - Chain [1] start processing\n",
      "10:47:51 - cmdstanpy - INFO - Chain [1] done processing\n"
     ]
    },
    {
     "name": "stdout",
     "output_type": "stream",
     "text": [
      "station_id: 52\n"
     ]
    },
    {
     "name": "stderr",
     "output_type": "stream",
     "text": [
      "10:47:51 - cmdstanpy - INFO - Chain [1] start processing\n",
      "10:47:51 - cmdstanpy - INFO - Chain [1] done processing\n"
     ]
    },
    {
     "name": "stdout",
     "output_type": "stream",
     "text": [
      "station_id: 27\n"
     ]
    },
    {
     "name": "stderr",
     "output_type": "stream",
     "text": [
      "10:47:52 - cmdstanpy - INFO - Chain [1] start processing\n",
      "10:47:52 - cmdstanpy - INFO - Chain [1] done processing\n"
     ]
    },
    {
     "name": "stdout",
     "output_type": "stream",
     "text": [
      "station_id: 87\n"
     ]
    },
    {
     "name": "stderr",
     "output_type": "stream",
     "text": [
      "10:47:52 - cmdstanpy - INFO - Chain [1] start processing\n",
      "10:47:52 - cmdstanpy - INFO - Chain [1] done processing\n"
     ]
    },
    {
     "name": "stdout",
     "output_type": "stream",
     "text": [
      "station_id: 97\n"
     ]
    },
    {
     "name": "stderr",
     "output_type": "stream",
     "text": [
      "10:47:52 - cmdstanpy - INFO - Chain [1] start processing\n",
      "10:47:52 - cmdstanpy - INFO - Chain [1] done processing\n"
     ]
    },
    {
     "name": "stdout",
     "output_type": "stream",
     "text": [
      "station_id: 28\n"
     ]
    },
    {
     "name": "stderr",
     "output_type": "stream",
     "text": [
      "10:47:53 - cmdstanpy - INFO - Chain [1] start processing\n",
      "10:47:53 - cmdstanpy - INFO - Chain [1] done processing\n"
     ]
    },
    {
     "name": "stdout",
     "output_type": "stream",
     "text": [
      "station_id: 35\n"
     ]
    },
    {
     "name": "stderr",
     "output_type": "stream",
     "text": [
      "10:47:53 - cmdstanpy - INFO - Chain [1] start processing\n",
      "10:47:53 - cmdstanpy - INFO - Chain [1] done processing\n"
     ]
    },
    {
     "name": "stdout",
     "output_type": "stream",
     "text": [
      "station_id: 61\n"
     ]
    },
    {
     "name": "stderr",
     "output_type": "stream",
     "text": [
      "10:47:53 - cmdstanpy - INFO - Chain [1] start processing\n",
      "10:47:53 - cmdstanpy - INFO - Chain [1] done processing\n"
     ]
    },
    {
     "name": "stdout",
     "output_type": "stream",
     "text": [
      "station_id: 72\n"
     ]
    },
    {
     "name": "stderr",
     "output_type": "stream",
     "text": [
      "10:47:53 - cmdstanpy - INFO - Chain [1] start processing\n",
      "10:47:53 - cmdstanpy - INFO - Chain [1] done processing\n"
     ]
    },
    {
     "name": "stdout",
     "output_type": "stream",
     "text": [
      "station_id: 62\n"
     ]
    },
    {
     "name": "stderr",
     "output_type": "stream",
     "text": [
      "10:47:54 - cmdstanpy - INFO - Chain [1] start processing\n",
      "10:47:54 - cmdstanpy - INFO - Chain [1] done processing\n"
     ]
    },
    {
     "name": "stdout",
     "output_type": "stream",
     "text": [
      "station_id: 112\n"
     ]
    },
    {
     "name": "stderr",
     "output_type": "stream",
     "text": [
      "10:47:54 - cmdstanpy - INFO - Chain [1] start processing\n",
      "10:47:54 - cmdstanpy - INFO - Chain [1] done processing\n"
     ]
    },
    {
     "name": "stdout",
     "output_type": "stream",
     "text": [
      "station_id: 77\n"
     ]
    },
    {
     "name": "stderr",
     "output_type": "stream",
     "text": [
      "10:47:54 - cmdstanpy - INFO - Chain [1] start processing\n",
      "10:47:54 - cmdstanpy - INFO - Chain [1] done processing\n"
     ]
    },
    {
     "name": "stdout",
     "output_type": "stream",
     "text": [
      "station_id: 1\n"
     ]
    },
    {
     "name": "stderr",
     "output_type": "stream",
     "text": [
      "10:47:55 - cmdstanpy - INFO - Chain [1] start processing\n",
      "10:47:55 - cmdstanpy - INFO - Chain [1] done processing\n"
     ]
    },
    {
     "name": "stdout",
     "output_type": "stream",
     "text": [
      "station_id: 113\n"
     ]
    },
    {
     "name": "stderr",
     "output_type": "stream",
     "text": [
      "10:47:55 - cmdstanpy - INFO - Chain [1] start processing\n",
      "10:47:55 - cmdstanpy - INFO - Chain [1] done processing\n"
     ]
    },
    {
     "name": "stdout",
     "output_type": "stream",
     "text": [
      "station_id: 6\n"
     ]
    },
    {
     "name": "stderr",
     "output_type": "stream",
     "text": [
      "10:47:55 - cmdstanpy - INFO - Chain [1] start processing\n",
      "10:47:55 - cmdstanpy - INFO - Chain [1] done processing\n"
     ]
    },
    {
     "name": "stdout",
     "output_type": "stream",
     "text": [
      "station_id: 67\n"
     ]
    },
    {
     "name": "stderr",
     "output_type": "stream",
     "text": [
      "10:47:56 - cmdstanpy - INFO - Chain [1] start processing\n",
      "10:47:56 - cmdstanpy - INFO - Chain [1] done processing\n"
     ]
    },
    {
     "name": "stdout",
     "output_type": "stream",
     "text": [
      "station_id: 83\n"
     ]
    },
    {
     "name": "stderr",
     "output_type": "stream",
     "text": [
      "10:47:56 - cmdstanpy - INFO - Chain [1] start processing\n"
     ]
    },
    {
     "name": "stdout",
     "output_type": "stream",
     "text": [
      "station_id: 88\n"
     ]
    },
    {
     "name": "stderr",
     "output_type": "stream",
     "text": [
      "10:47:56 - cmdstanpy - INFO - Chain [1] done processing\n",
      "10:47:56 - cmdstanpy - INFO - Chain [1] start processing\n",
      "10:47:56 - cmdstanpy - INFO - Chain [1] done processing\n"
     ]
    },
    {
     "name": "stdout",
     "output_type": "stream",
     "text": [
      "station_id: 58\n"
     ]
    },
    {
     "name": "stderr",
     "output_type": "stream",
     "text": [
      "10:47:56 - cmdstanpy - INFO - Chain [1] start processing\n",
      "10:47:57 - cmdstanpy - INFO - Chain [1] done processing\n"
     ]
    },
    {
     "name": "stdout",
     "output_type": "stream",
     "text": [
      "station_id: 53\n"
     ]
    },
    {
     "name": "stderr",
     "output_type": "stream",
     "text": [
      "10:47:57 - cmdstanpy - INFO - Chain [1] start processing\n",
      "10:47:57 - cmdstanpy - INFO - Chain [1] done processing\n"
     ]
    },
    {
     "name": "stdout",
     "output_type": "stream",
     "text": [
      "station_id: 5\n"
     ]
    },
    {
     "name": "stderr",
     "output_type": "stream",
     "text": [
      "10:47:57 - cmdstanpy - INFO - Chain [1] start processing\n",
      "10:47:57 - cmdstanpy - INFO - Chain [1] done processing\n"
     ]
    },
    {
     "name": "stdout",
     "output_type": "stream",
     "text": [
      "station_id: 93\n"
     ]
    },
    {
     "name": "stderr",
     "output_type": "stream",
     "text": [
      "10:47:57 - cmdstanpy - INFO - Chain [1] start processing\n",
      "10:47:57 - cmdstanpy - INFO - Chain [1] done processing\n"
     ]
    },
    {
     "name": "stdout",
     "output_type": "stream",
     "text": [
      "station_id: 73\n"
     ]
    },
    {
     "name": "stderr",
     "output_type": "stream",
     "text": [
      "10:47:58 - cmdstanpy - INFO - Chain [1] start processing\n",
      "10:47:58 - cmdstanpy - INFO - Chain [1] done processing\n"
     ]
    },
    {
     "name": "stdout",
     "output_type": "stream",
     "text": [
      "station_id: 48\n"
     ]
    },
    {
     "name": "stderr",
     "output_type": "stream",
     "text": [
      "10:47:58 - cmdstanpy - INFO - Chain [1] start processing\n",
      "10:47:58 - cmdstanpy - INFO - Chain [1] done processing\n"
     ]
    },
    {
     "name": "stdout",
     "output_type": "stream",
     "text": [
      "station_id: 36\n"
     ]
    },
    {
     "name": "stderr",
     "output_type": "stream",
     "text": [
      "10:47:58 - cmdstanpy - INFO - Chain [1] start processing\n"
     ]
    },
    {
     "name": "stdout",
     "output_type": "stream",
     "text": [
      "station_id: 69\n"
     ]
    },
    {
     "name": "stderr",
     "output_type": "stream",
     "text": [
      "10:47:58 - cmdstanpy - INFO - Chain [1] done processing\n",
      "10:47:59 - cmdstanpy - INFO - Chain [1] start processing\n",
      "10:47:59 - cmdstanpy - INFO - Chain [1] done processing\n"
     ]
    },
    {
     "name": "stdout",
     "output_type": "stream",
     "text": [
      "station_id: 2\n"
     ]
    },
    {
     "name": "stderr",
     "output_type": "stream",
     "text": [
      "10:47:59 - cmdstanpy - INFO - Chain [1] start processing\n",
      "10:47:59 - cmdstanpy - INFO - Chain [1] done processing\n"
     ]
    },
    {
     "name": "stdout",
     "output_type": "stream",
     "text": [
      "station_id: 13\n"
     ]
    },
    {
     "name": "stderr",
     "output_type": "stream",
     "text": [
      "10:47:59 - cmdstanpy - INFO - Chain [1] start processing\n"
     ]
    },
    {
     "name": "stdout",
     "output_type": "stream",
     "text": [
      "station_id: 63\n"
     ]
    },
    {
     "name": "stderr",
     "output_type": "stream",
     "text": [
      "10:47:59 - cmdstanpy - INFO - Chain [1] done processing\n",
      "10:48:00 - cmdstanpy - INFO - Chain [1] start processing\n",
      "10:48:00 - cmdstanpy - INFO - Chain [1] done processing\n"
     ]
    },
    {
     "name": "stdout",
     "output_type": "stream",
     "text": [
      "station_id: 98\n"
     ]
    },
    {
     "name": "stderr",
     "output_type": "stream",
     "text": [
      "10:48:00 - cmdstanpy - INFO - Chain [1] start processing\n",
      "10:48:00 - cmdstanpy - INFO - Chain [1] done processing\n"
     ]
    },
    {
     "name": "stdout",
     "output_type": "stream",
     "text": [
      "station_id: 66\n"
     ]
    },
    {
     "name": "stderr",
     "output_type": "stream",
     "text": [
      "10:48:00 - cmdstanpy - INFO - Chain [1] start processing\n",
      "10:48:00 - cmdstanpy - INFO - Chain [1] done processing\n"
     ]
    },
    {
     "name": "stdout",
     "output_type": "stream",
     "text": [
      "station_id: 8\n"
     ]
    },
    {
     "name": "stderr",
     "output_type": "stream",
     "text": [
      "10:48:00 - cmdstanpy - INFO - Chain [1] start processing\n"
     ]
    },
    {
     "name": "stdout",
     "output_type": "stream",
     "text": [
      "station_id: 71\n"
     ]
    },
    {
     "name": "stderr",
     "output_type": "stream",
     "text": [
      "10:48:01 - cmdstanpy - INFO - Chain [1] done processing\n",
      "10:48:01 - cmdstanpy - INFO - Chain [1] start processing\n",
      "10:48:01 - cmdstanpy - INFO - Chain [1] done processing\n"
     ]
    },
    {
     "name": "stdout",
     "output_type": "stream",
     "text": [
      "station_id: 68\n"
     ]
    },
    {
     "name": "stderr",
     "output_type": "stream",
     "text": [
      "10:48:01 - cmdstanpy - INFO - Chain [1] start processing\n",
      "10:48:01 - cmdstanpy - INFO - Chain [1] done processing\n"
     ]
    },
    {
     "name": "stdout",
     "output_type": "stream",
     "text": [
      "station_id: 103\n"
     ]
    },
    {
     "name": "stderr",
     "output_type": "stream",
     "text": [
      "10:48:01 - cmdstanpy - INFO - Chain [1] start processing\n",
      "10:48:01 - cmdstanpy - INFO - Chain [1] done processing\n"
     ]
    },
    {
     "name": "stdout",
     "output_type": "stream",
     "text": [
      "station_id: 94\n"
     ]
    },
    {
     "name": "stderr",
     "output_type": "stream",
     "text": [
      "10:48:02 - cmdstanpy - INFO - Chain [1] start processing\n",
      "10:48:02 - cmdstanpy - INFO - Chain [1] done processing\n"
     ]
    },
    {
     "name": "stdout",
     "output_type": "stream",
     "text": [
      "station_id: 59\n"
     ]
    },
    {
     "name": "stderr",
     "output_type": "stream",
     "text": [
      "10:48:02 - cmdstanpy - INFO - Chain [1] start processing\n",
      "10:48:02 - cmdstanpy - INFO - Chain [1] done processing\n"
     ]
    },
    {
     "name": "stdout",
     "output_type": "stream",
     "text": [
      "station_id: 99\n"
     ]
    },
    {
     "name": "stderr",
     "output_type": "stream",
     "text": [
      "10:48:02 - cmdstanpy - INFO - Chain [1] start processing\n",
      "10:48:02 - cmdstanpy - INFO - Chain [1] done processing\n"
     ]
    },
    {
     "name": "stdout",
     "output_type": "stream",
     "text": [
      "station_id: 108\n"
     ]
    },
    {
     "name": "stderr",
     "output_type": "stream",
     "text": [
      "10:48:02 - cmdstanpy - INFO - Chain [1] start processing\n"
     ]
    },
    {
     "name": "stdout",
     "output_type": "stream",
     "text": [
      "station_id: 114\n"
     ]
    },
    {
     "name": "stderr",
     "output_type": "stream",
     "text": [
      "10:48:03 - cmdstanpy - INFO - Chain [1] done processing\n",
      "10:48:03 - cmdstanpy - INFO - Chain [1] start processing\n",
      "10:48:03 - cmdstanpy - INFO - Chain [1] done processing\n"
     ]
    },
    {
     "name": "stdout",
     "output_type": "stream",
     "text": [
      "station_id: 79\n"
     ]
    },
    {
     "name": "stderr",
     "output_type": "stream",
     "text": [
      "10:48:03 - cmdstanpy - INFO - Chain [1] start processing\n",
      "10:48:03 - cmdstanpy - INFO - Chain [1] done processing\n"
     ]
    },
    {
     "name": "stdout",
     "output_type": "stream",
     "text": [
      "station_id: 34\n"
     ]
    },
    {
     "name": "stderr",
     "output_type": "stream",
     "text": [
      "10:48:03 - cmdstanpy - INFO - Chain [1] start processing\n",
      "10:48:03 - cmdstanpy - INFO - Chain [1] done processing\n"
     ]
    },
    {
     "name": "stdout",
     "output_type": "stream",
     "text": [
      "station_id: 104\n"
     ]
    },
    {
     "name": "stderr",
     "output_type": "stream",
     "text": [
      "10:48:04 - cmdstanpy - INFO - Chain [1] start processing\n",
      "10:48:04 - cmdstanpy - INFO - Chain [1] done processing\n"
     ]
    },
    {
     "name": "stdout",
     "output_type": "stream",
     "text": [
      "station_id: 109\n"
     ]
    },
    {
     "name": "stderr",
     "output_type": "stream",
     "text": [
      "10:48:04 - cmdstanpy - INFO - Chain [1] start processing\n",
      "10:48:04 - cmdstanpy - INFO - Chain [1] done processing\n"
     ]
    },
    {
     "name": "stdout",
     "output_type": "stream",
     "text": [
      "station_id: 64\n"
     ]
    },
    {
     "name": "stderr",
     "output_type": "stream",
     "text": [
      "10:48:04 - cmdstanpy - INFO - Chain [1] start processing\n"
     ]
    },
    {
     "name": "stdout",
     "output_type": "stream",
     "text": [
      "station_id: 4\n"
     ]
    },
    {
     "name": "stderr",
     "output_type": "stream",
     "text": [
      "10:48:04 - cmdstanpy - INFO - Chain [1] done processing\n",
      "10:48:05 - cmdstanpy - INFO - Chain [1] start processing\n"
     ]
    },
    {
     "name": "stdout",
     "output_type": "stream",
     "text": [
      "station_id: 54\n"
     ]
    },
    {
     "name": "stderr",
     "output_type": "stream",
     "text": [
      "10:48:05 - cmdstanpy - INFO - Chain [1] done processing\n",
      "10:48:05 - cmdstanpy - INFO - Chain [1] start processing\n",
      "10:48:05 - cmdstanpy - INFO - Chain [1] done processing\n"
     ]
    },
    {
     "name": "stdout",
     "output_type": "stream",
     "text": [
      "station_id: 29\n"
     ]
    },
    {
     "name": "stderr",
     "output_type": "stream",
     "text": [
      "10:48:05 - cmdstanpy - INFO - Chain [1] start processing\n",
      "10:48:05 - cmdstanpy - INFO - Chain [1] done processing\n"
     ]
    },
    {
     "name": "stdout",
     "output_type": "stream",
     "text": [
      "station_id: 84\n"
     ]
    },
    {
     "name": "stderr",
     "output_type": "stream",
     "text": [
      "10:48:06 - cmdstanpy - INFO - Chain [1] start processing\n",
      "10:48:06 - cmdstanpy - INFO - Chain [1] done processing\n"
     ]
    },
    {
     "name": "stdout",
     "output_type": "stream",
     "text": [
      "station_id: 14\n"
     ]
    },
    {
     "name": "stderr",
     "output_type": "stream",
     "text": [
      "10:48:06 - cmdstanpy - INFO - Chain [1] start processing\n",
      "10:48:06 - cmdstanpy - INFO - Chain [1] done processing\n"
     ]
    },
    {
     "name": "stdout",
     "output_type": "stream",
     "text": [
      "station_id: 39\n"
     ]
    },
    {
     "name": "stderr",
     "output_type": "stream",
     "text": [
      "10:48:06 - cmdstanpy - INFO - Chain [1] start processing\n",
      "10:48:06 - cmdstanpy - INFO - Chain [1] done processing\n"
     ]
    },
    {
     "name": "stdout",
     "output_type": "stream",
     "text": [
      "station_id: 9\n"
     ]
    },
    {
     "name": "stderr",
     "output_type": "stream",
     "text": [
      "10:48:06 - cmdstanpy - INFO - Chain [1] start processing\n",
      "10:48:07 - cmdstanpy - INFO - Chain [1] done processing\n"
     ]
    },
    {
     "name": "stdout",
     "output_type": "stream",
     "text": [
      "station_id: 55\n"
     ]
    },
    {
     "name": "stderr",
     "output_type": "stream",
     "text": [
      "10:48:07 - cmdstanpy - INFO - Chain [1] start processing\n",
      "10:48:07 - cmdstanpy - INFO - Chain [1] done processing\n"
     ]
    },
    {
     "name": "stdout",
     "output_type": "stream",
     "text": [
      "station_id: 24\n"
     ]
    },
    {
     "name": "stderr",
     "output_type": "stream",
     "text": [
      "10:48:07 - cmdstanpy - INFO - Chain [1] start processing\n",
      "10:48:07 - cmdstanpy - INFO - Chain [1] done processing\n"
     ]
    },
    {
     "name": "stdout",
     "output_type": "stream",
     "text": [
      "station_id: 102\n"
     ]
    },
    {
     "name": "stderr",
     "output_type": "stream",
     "text": [
      "10:48:07 - cmdstanpy - INFO - Chain [1] start processing\n",
      "10:48:07 - cmdstanpy - INFO - Chain [1] done processing\n"
     ]
    },
    {
     "name": "stdout",
     "output_type": "stream",
     "text": [
      "station_id: 49\n"
     ]
    },
    {
     "name": "stderr",
     "output_type": "stream",
     "text": [
      "10:48:08 - cmdstanpy - INFO - Chain [1] start processing\n",
      "10:48:08 - cmdstanpy - INFO - Chain [1] done processing\n"
     ]
    },
    {
     "name": "stdout",
     "output_type": "stream",
     "text": [
      "station_id: 105\n"
     ]
    },
    {
     "name": "stderr",
     "output_type": "stream",
     "text": [
      "10:48:08 - cmdstanpy - INFO - Chain [1] start processing\n",
      "10:48:08 - cmdstanpy - INFO - Chain [1] done processing\n"
     ]
    },
    {
     "name": "stdout",
     "output_type": "stream",
     "text": [
      "station_id: 80\n"
     ]
    },
    {
     "name": "stderr",
     "output_type": "stream",
     "text": [
      "10:48:08 - cmdstanpy - INFO - Chain [1] start processing\n",
      "10:48:08 - cmdstanpy - INFO - Chain [1] done processing\n"
     ]
    },
    {
     "name": "stdout",
     "output_type": "stream",
     "text": [
      "station_id: 100\n"
     ]
    },
    {
     "name": "stderr",
     "output_type": "stream",
     "text": [
      "10:48:09 - cmdstanpy - INFO - Chain [1] start processing\n",
      "10:48:09 - cmdstanpy - INFO - Chain [1] done processing\n"
     ]
    },
    {
     "name": "stdout",
     "output_type": "stream",
     "text": [
      "station_id: 20\n"
     ]
    },
    {
     "name": "stderr",
     "output_type": "stream",
     "text": [
      "10:48:09 - cmdstanpy - INFO - Chain [1] start processing\n",
      "10:48:09 - cmdstanpy - INFO - Chain [1] done processing\n"
     ]
    },
    {
     "name": "stdout",
     "output_type": "stream",
     "text": [
      "station_id: 15\n"
     ]
    },
    {
     "name": "stderr",
     "output_type": "stream",
     "text": [
      "10:48:09 - cmdstanpy - INFO - Chain [1] start processing\n",
      "10:48:09 - cmdstanpy - INFO - Chain [1] done processing\n"
     ]
    },
    {
     "name": "stdout",
     "output_type": "stream",
     "text": [
      "station_id: 45\n"
     ]
    },
    {
     "name": "stderr",
     "output_type": "stream",
     "text": [
      "10:48:09 - cmdstanpy - INFO - Chain [1] start processing\n"
     ]
    },
    {
     "name": "stdout",
     "output_type": "stream",
     "text": [
      "station_id: 95\n"
     ]
    },
    {
     "name": "stderr",
     "output_type": "stream",
     "text": [
      "10:48:10 - cmdstanpy - INFO - Chain [1] done processing\n",
      "10:48:10 - cmdstanpy - INFO - Chain [1] start processing\n",
      "10:48:10 - cmdstanpy - INFO - Chain [1] done processing\n"
     ]
    },
    {
     "name": "stdout",
     "output_type": "stream",
     "text": [
      "station_id: 75\n"
     ]
    },
    {
     "name": "stderr",
     "output_type": "stream",
     "text": [
      "10:48:10 - cmdstanpy - INFO - Chain [1] start processing\n",
      "10:48:10 - cmdstanpy - INFO - Chain [1] done processing\n"
     ]
    },
    {
     "name": "stdout",
     "output_type": "stream",
     "text": [
      "station_id: 90\n"
     ]
    },
    {
     "name": "stderr",
     "output_type": "stream",
     "text": [
      "10:48:10 - cmdstanpy - INFO - Chain [1] start processing\n",
      "10:48:10 - cmdstanpy - INFO - Chain [1] done processing\n"
     ]
    },
    {
     "name": "stdout",
     "output_type": "stream",
     "text": [
      "station_id: 65\n"
     ]
    },
    {
     "name": "stderr",
     "output_type": "stream",
     "text": [
      "10:48:11 - cmdstanpy - INFO - Chain [1] start processing\n",
      "10:48:11 - cmdstanpy - INFO - Chain [1] done processing\n"
     ]
    },
    {
     "name": "stdout",
     "output_type": "stream",
     "text": [
      "station_id: 10\n"
     ]
    },
    {
     "name": "stderr",
     "output_type": "stream",
     "text": [
      "10:48:11 - cmdstanpy - INFO - Chain [1] start processing\n",
      "10:48:11 - cmdstanpy - INFO - Chain [1] done processing\n"
     ]
    },
    {
     "name": "stdout",
     "output_type": "stream",
     "text": [
      "station_id: 85\n"
     ]
    },
    {
     "name": "stderr",
     "output_type": "stream",
     "text": [
      "10:48:11 - cmdstanpy - INFO - Chain [1] start processing\n",
      "10:48:11 - cmdstanpy - INFO - Chain [1] done processing\n"
     ]
    },
    {
     "name": "stdout",
     "output_type": "stream",
     "text": [
      "station_id: 43\n"
     ]
    },
    {
     "name": "stderr",
     "output_type": "stream",
     "text": [
      "10:48:11 - cmdstanpy - INFO - Chain [1] start processing\n"
     ]
    },
    {
     "name": "stdout",
     "output_type": "stream",
     "text": [
      "station_id: 60\n"
     ]
    },
    {
     "name": "stderr",
     "output_type": "stream",
     "text": [
      "10:48:11 - cmdstanpy - INFO - Chain [1] done processing\n",
      "10:48:12 - cmdstanpy - INFO - Chain [1] start processing\n",
      "10:48:12 - cmdstanpy - INFO - Chain [1] done processing\n"
     ]
    },
    {
     "name": "stdout",
     "output_type": "stream",
     "text": [
      "station_id: 115\n"
     ]
    },
    {
     "name": "stderr",
     "output_type": "stream",
     "text": [
      "10:48:12 - cmdstanpy - INFO - Chain [1] start processing\n",
      "10:48:12 - cmdstanpy - INFO - Chain [1] done processing\n"
     ]
    },
    {
     "name": "stdout",
     "output_type": "stream",
     "text": [
      "station_id: 44\n"
     ]
    },
    {
     "name": "stderr",
     "output_type": "stream",
     "text": [
      "10:48:12 - cmdstanpy - INFO - Chain [1] start processing\n",
      "10:48:12 - cmdstanpy - INFO - Chain [1] done processing\n"
     ]
    },
    {
     "name": "stdout",
     "output_type": "stream",
     "text": [
      "station_id: 25\n"
     ]
    },
    {
     "name": "stderr",
     "output_type": "stream",
     "text": [
      "10:48:13 - cmdstanpy - INFO - Chain [1] start processing\n",
      "10:48:13 - cmdstanpy - INFO - Chain [1] done processing\n"
     ]
    },
    {
     "name": "stdout",
     "output_type": "stream",
     "text": [
      "station_id: 40\n"
     ]
    },
    {
     "name": "stderr",
     "output_type": "stream",
     "text": [
      "10:48:13 - cmdstanpy - INFO - Chain [1] start processing\n",
      "10:48:13 - cmdstanpy - INFO - Chain [1] done processing\n"
     ]
    },
    {
     "name": "stdout",
     "output_type": "stream",
     "text": [
      "station_id: 110\n"
     ]
    },
    {
     "name": "stderr",
     "output_type": "stream",
     "text": [
      "10:48:13 - cmdstanpy - INFO - Chain [1] start processing\n"
     ]
    },
    {
     "name": "stdout",
     "output_type": "stream",
     "text": [
      "station_id: 38\n"
     ]
    },
    {
     "name": "stderr",
     "output_type": "stream",
     "text": [
      "10:48:13 - cmdstanpy - INFO - Chain [1] done processing\n",
      "10:48:13 - cmdstanpy - INFO - Chain [1] start processing\n",
      "10:48:14 - cmdstanpy - INFO - Chain [1] done processing\n"
     ]
    },
    {
     "name": "stdout",
     "output_type": "stream",
     "text": [
      "station_id: 111\n"
     ]
    },
    {
     "name": "stderr",
     "output_type": "stream",
     "text": [
      "10:48:14 - cmdstanpy - INFO - Chain [1] start processing\n",
      "10:48:14 - cmdstanpy - INFO - Chain [1] done processing\n"
     ]
    },
    {
     "name": "stdout",
     "output_type": "stream",
     "text": [
      "station_id: 89\n"
     ]
    },
    {
     "name": "stderr",
     "output_type": "stream",
     "text": [
      "10:48:14 - cmdstanpy - INFO - Chain [1] start processing\n",
      "10:48:14 - cmdstanpy - INFO - Chain [1] done processing\n"
     ]
    },
    {
     "name": "stdout",
     "output_type": "stream",
     "text": [
      "station_id: 19\n"
     ]
    },
    {
     "name": "stderr",
     "output_type": "stream",
     "text": [
      "10:48:14 - cmdstanpy - INFO - Chain [1] start processing\n",
      "10:48:14 - cmdstanpy - INFO - Chain [1] done processing\n"
     ]
    },
    {
     "name": "stdout",
     "output_type": "stream",
     "text": [
      "station_id: 23\n"
     ]
    },
    {
     "name": "stderr",
     "output_type": "stream",
     "text": [
      "10:48:15 - cmdstanpy - INFO - Chain [1] start processing\n",
      "10:48:15 - cmdstanpy - INFO - Chain [1] done processing\n"
     ]
    },
    {
     "name": "stdout",
     "output_type": "stream",
     "text": [
      "station_id: 50\n"
     ]
    },
    {
     "name": "stderr",
     "output_type": "stream",
     "text": [
      "10:48:15 - cmdstanpy - INFO - Chain [1] start processing\n",
      "10:48:15 - cmdstanpy - INFO - Chain [1] done processing\n"
     ]
    },
    {
     "name": "stdout",
     "output_type": "stream",
     "text": [
      "station_id: 74\n"
     ]
    },
    {
     "name": "stderr",
     "output_type": "stream",
     "text": [
      "10:48:15 - cmdstanpy - INFO - Chain [1] start processing\n",
      "10:48:15 - cmdstanpy - INFO - Chain [1] done processing\n"
     ]
    },
    {
     "name": "stdout",
     "output_type": "stream",
     "text": [
      "station_id: 30\n"
     ]
    },
    {
     "name": "stderr",
     "output_type": "stream",
     "text": [
      "10:48:15 - cmdstanpy - INFO - Chain [1] start processing\n",
      "10:48:16 - cmdstanpy - INFO - Chain [1] done processing\n"
     ]
    },
    {
     "name": "stdout",
     "output_type": "stream",
     "text": [
      "station_id: 86\n"
     ]
    },
    {
     "name": "stderr",
     "output_type": "stream",
     "text": [
      "10:48:16 - cmdstanpy - INFO - Chain [1] start processing\n",
      "10:48:16 - cmdstanpy - INFO - Chain [1] done processing\n"
     ]
    },
    {
     "name": "stdout",
     "output_type": "stream",
     "text": [
      "station_id: 33\n"
     ]
    },
    {
     "name": "stderr",
     "output_type": "stream",
     "text": [
      "10:48:16 - cmdstanpy - INFO - Chain [1] start processing\n",
      "10:48:16 - cmdstanpy - INFO - Chain [1] done processing\n"
     ]
    },
    {
     "name": "stdout",
     "output_type": "stream",
     "text": [
      "station_id: 78\n"
     ]
    },
    {
     "name": "stderr",
     "output_type": "stream",
     "text": [
      "10:48:16 - cmdstanpy - INFO - Chain [1] start processing\n",
      "10:48:16 - cmdstanpy - INFO - Chain [1] done processing\n"
     ]
    },
    {
     "name": "stdout",
     "output_type": "stream",
     "text": [
      "station_id: 3\n"
     ]
    },
    {
     "name": "stderr",
     "output_type": "stream",
     "text": [
      "10:48:17 - cmdstanpy - INFO - Chain [1] start processing\n",
      "10:48:17 - cmdstanpy - INFO - Chain [1] done processing\n"
     ]
    },
    {
     "name": "stdout",
     "output_type": "stream",
     "text": [
      "station_id: 31\n"
     ]
    },
    {
     "name": "stderr",
     "output_type": "stream",
     "text": [
      "10:48:17 - cmdstanpy - INFO - Chain [1] start processing\n",
      "10:48:17 - cmdstanpy - INFO - Chain [1] done processing\n"
     ]
    },
    {
     "name": "stdout",
     "output_type": "stream",
     "text": [
      "station_id: 11\n"
     ]
    },
    {
     "name": "stderr",
     "output_type": "stream",
     "text": [
      "10:48:17 - cmdstanpy - INFO - Chain [1] start processing\n",
      "10:48:17 - cmdstanpy - INFO - Chain [1] done processing\n"
     ]
    },
    {
     "name": "stdout",
     "output_type": "stream",
     "text": [
      "station_id: 96\n"
     ]
    },
    {
     "name": "stderr",
     "output_type": "stream",
     "text": [
      "10:48:17 - cmdstanpy - INFO - Chain [1] start processing\n",
      "10:48:17 - cmdstanpy - INFO - Chain [1] done processing\n"
     ]
    },
    {
     "name": "stdout",
     "output_type": "stream",
     "text": [
      "station_id: 41\n"
     ]
    },
    {
     "name": "stderr",
     "output_type": "stream",
     "text": [
      "10:48:18 - cmdstanpy - INFO - Chain [1] start processing\n"
     ]
    },
    {
     "name": "stdout",
     "output_type": "stream",
     "text": [
      "station_id: 76\n"
     ]
    },
    {
     "name": "stderr",
     "output_type": "stream",
     "text": [
      "10:48:18 - cmdstanpy - INFO - Chain [1] done processing\n",
      "10:48:18 - cmdstanpy - INFO - Chain [1] start processing\n",
      "10:48:18 - cmdstanpy - INFO - Chain [1] done processing\n"
     ]
    },
    {
     "name": "stdout",
     "output_type": "stream",
     "text": [
      "station_id: 116\n"
     ]
    },
    {
     "name": "stderr",
     "output_type": "stream",
     "text": [
      "10:48:18 - cmdstanpy - INFO - Chain [1] start processing\n",
      "10:48:19 - cmdstanpy - INFO - Chain [1] done processing\n"
     ]
    },
    {
     "name": "stdout",
     "output_type": "stream",
     "text": [
      "station_id: 56\n"
     ]
    },
    {
     "name": "stderr",
     "output_type": "stream",
     "text": [
      "10:48:19 - cmdstanpy - INFO - Chain [1] start processing\n",
      "10:48:19 - cmdstanpy - INFO - Chain [1] done processing\n"
     ]
    },
    {
     "name": "stdout",
     "output_type": "stream",
     "text": [
      "station_id: 106\n"
     ]
    },
    {
     "name": "stderr",
     "output_type": "stream",
     "text": [
      "10:48:19 - cmdstanpy - INFO - Chain [1] start processing\n",
      "10:48:19 - cmdstanpy - INFO - Chain [1] done processing\n"
     ]
    },
    {
     "name": "stdout",
     "output_type": "stream",
     "text": [
      "station_id: 101\n"
     ]
    },
    {
     "name": "stderr",
     "output_type": "stream",
     "text": [
      "10:48:19 - cmdstanpy - INFO - Chain [1] start processing\n",
      "10:48:19 - cmdstanpy - INFO - Chain [1] done processing\n"
     ]
    },
    {
     "name": "stdout",
     "output_type": "stream",
     "text": [
      "station_id: 117\n"
     ]
    },
    {
     "name": "stderr",
     "output_type": "stream",
     "text": [
      "10:48:20 - cmdstanpy - INFO - Chain [1] start processing\n",
      "10:48:20 - cmdstanpy - INFO - Chain [1] done processing\n"
     ]
    },
    {
     "name": "stdout",
     "output_type": "stream",
     "text": [
      "station_id: 37\n"
     ]
    },
    {
     "name": "stderr",
     "output_type": "stream",
     "text": [
      "10:48:20 - cmdstanpy - INFO - Chain [1] start processing\n",
      "10:48:20 - cmdstanpy - INFO - Chain [1] done processing\n"
     ]
    },
    {
     "name": "stdout",
     "output_type": "stream",
     "text": [
      "station_id: 91\n"
     ]
    },
    {
     "name": "stderr",
     "output_type": "stream",
     "text": [
      "10:48:20 - cmdstanpy - INFO - Chain [1] start processing\n",
      "10:48:20 - cmdstanpy - INFO - Chain [1] done processing\n"
     ]
    },
    {
     "name": "stdout",
     "output_type": "stream",
     "text": [
      "station_id: 21\n"
     ]
    },
    {
     "name": "stderr",
     "output_type": "stream",
     "text": [
      "10:48:20 - cmdstanpy - INFO - Chain [1] start processing\n",
      "10:48:20 - cmdstanpy - INFO - Chain [1] done processing\n"
     ]
    },
    {
     "name": "stdout",
     "output_type": "stream",
     "text": [
      "station_id: 12\n"
     ]
    },
    {
     "name": "stderr",
     "output_type": "stream",
     "text": [
      "10:48:21 - cmdstanpy - INFO - Chain [1] start processing\n",
      "10:48:21 - cmdstanpy - INFO - Chain [1] done processing\n"
     ]
    },
    {
     "name": "stdout",
     "output_type": "stream",
     "text": [
      "station_id: 16\n"
     ]
    },
    {
     "name": "stderr",
     "output_type": "stream",
     "text": [
      "10:48:21 - cmdstanpy - INFO - Chain [1] start processing\n",
      "10:48:21 - cmdstanpy - INFO - Chain [1] done processing\n"
     ]
    },
    {
     "name": "stdout",
     "output_type": "stream",
     "text": [
      "station_id: 107\n"
     ]
    },
    {
     "name": "stderr",
     "output_type": "stream",
     "text": [
      "10:48:21 - cmdstanpy - INFO - Chain [1] start processing\n",
      "10:48:21 - cmdstanpy - INFO - Chain [1] done processing\n"
     ]
    },
    {
     "name": "stdout",
     "output_type": "stream",
     "text": [
      "station_id: 26\n"
     ]
    },
    {
     "name": "stderr",
     "output_type": "stream",
     "text": [
      "10:48:21 - cmdstanpy - INFO - Chain [1] start processing\n",
      "10:48:22 - cmdstanpy - INFO - Chain [1] done processing\n"
     ]
    },
    {
     "name": "stdout",
     "output_type": "stream",
     "text": [
      "station_id: 47\n"
     ]
    },
    {
     "name": "stderr",
     "output_type": "stream",
     "text": [
      "10:48:22 - cmdstanpy - INFO - Chain [1] start processing\n"
     ]
    },
    {
     "name": "stdout",
     "output_type": "stream",
     "text": [
      "station_id: 7\n"
     ]
    },
    {
     "name": "stderr",
     "output_type": "stream",
     "text": [
      "10:48:22 - cmdstanpy - INFO - Chain [1] done processing\n",
      "10:48:22 - cmdstanpy - INFO - Chain [1] start processing\n",
      "10:48:22 - cmdstanpy - INFO - Chain [1] done processing\n"
     ]
    },
    {
     "name": "stdout",
     "output_type": "stream",
     "text": [
      "station_id: 22\n"
     ]
    },
    {
     "data": {
      "text/plain": [
       "1.0"
      ]
     },
     "execution_count": 12,
     "metadata": {},
     "output_type": "execute_result"
    }
   ],
   "source": [
    "from prophet import Prophet\n",
    "\n",
    "def wmape(y_true, y_pred):\n",
    "    return np.abs(y_true - y_pred).sum() / np.abs(y_true).sum()\n",
    "\n",
    "p = list()\n",
    "for station_id in train['station_id'].unique():\n",
    "    print('station_id:', station_id)\n",
    "    train_ = train.loc[train['station_id'] == station_id]\n",
    "    valid_ = valid.loc[valid['station_id'] == station_id]\n",
    "    \n",
    "    m = Prophet(weekly_seasonality=True, daily_seasonality=True)\n",
    "\n",
    "    m.fit(train_)\n",
    "\n",
    "    future = m.make_future_dataframe(periods=50, freq=\"D\")\n",
    "    future = future.merge(valid_[['ds']], on='ds', how='left')\n",
    "    forecast = m.predict(future)\n",
    "    forecast['station_id'] = station_id\n",
    "    p.append(forecast[['ds', 'yhat', 'station_id']])\n",
    "    \n",
    "p = pd.concat(p)\n",
    "p['yhat'] = p['yhat'].clip(lower=0)\n",
    "p = p.merge(valid, on=['ds', 'station_id'], how='left')\n",
    "wmape(p['y'], p['yhat'])"
   ]
  },
  {
   "cell_type": "code",
   "execution_count": 13,
   "metadata": {},
   "outputs": [
    {
     "data": {
      "image/png": "[encoded data removed]",
      "text/plain": [
       "<Figure size 1280x720 with 6 Axes>"
      ]
     },
     "metadata": {},
     "output_type": "display_data"
    }
   ],
   "source": [
    "import matplotlib.pyplot as plt\n",
    "fig, ax = plt.subplots(3,2, figsize=(1280/96, 720/96), dpi=96)\n",
    "ax = ax.flatten()\n",
    "for ax_ ,station_id in enumerate(p['station_id'].unique()[:6]):\n",
    "    p_ = p.loc[p['station_id'] == station_id]\n",
    "    p_.plot(x='ds', y='y', ax=ax[ax_], label='Available_bikes')\n",
    "    p_.plot(x='ds', y='yhat', ax=ax[ax_], label='Forecast')\n",
    "    ax[ax_].set_title(station_id)\n",
    "    ax[ax_].legend()\n",
    "    ax[ax_].set_xlabel('Date')\n",
    "    ax[ax_].set_ylabel('Available_bikes')\n",
    "fig.tight_layout()\n",
    "plt.show()"
   ]
  },
  {
   "cell_type": "code",
   "execution_count": null,
   "metadata": {},
   "outputs": [],
   "source": []
  },
  {
   "cell_type": "code",
   "execution_count": null,
   "metadata": {},
   "outputs": [],
   "source": []
  }
 ],
 "metadata": {
  "kernelspec": {
   "display_name": "Pytorch",
   "language": "python",
   "name": "python3"
  },
  "language_info": {
   "codemirror_mode": {
    "name": "ipython",
    "version": 3
   },
   "file_extension": ".py",
   "mimetype": "text/x-python",
   "name": "python",
   "nbconvert_exporter": "python",
   "pygments_lexer": "ipython3",
   "version": "3.11.8"
  }
 },
 "nbformat": 4,
 "nbformat_minor": 2
}
