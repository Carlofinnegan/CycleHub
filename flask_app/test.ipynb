{
 "cells": [
  {
   "cell_type": "code",
   "execution_count": 1,
   "metadata": {},
   "outputs": [
    {
     "name": "stderr",
     "output_type": "stream",
     "text": [
      "c:\\Users\\Christian\\Desktop\\CycleHub\\CycleHub\\flask_app\\ml_model.py:70: SyntaxWarning: invalid escape sequence '\\y'\n",
      "  with open('flask_app\\your_model.pkl', 'rb') as file:\n",
      "c:\\Users\\Christian\\Desktop\\CycleHub\\CycleHub\\flask_app\\ml_model.py:79: SyntaxWarning: invalid escape sequence '\\y'\n",
      "  with open('flask_app\\your_model.pkl', 'rb') as file:\n"
     ]
    },
    {
     "name": "stdout",
     "output_type": "stream",
     "text": [
      "              time_of_day  wind_speed  temperature      description  \\\n",
      "0     2024-04-14 00:00:00        5.11         7.20       few clouds   \n",
      "1     2024-04-14 00:00:00        5.11         7.20       few clouds   \n",
      "2     2024-04-14 00:00:00        5.11         7.20       few clouds   \n",
      "3     2024-04-14 00:00:00        5.11         7.20       few clouds   \n",
      "4     2024-04-14 00:00:00        5.11         7.20       few clouds   \n",
      "...                   ...         ...          ...              ...   \n",
      "13447 2024-04-18 21:00:00        3.79         8.35  overcast clouds   \n",
      "13448 2024-04-18 21:00:00        3.79         8.35  overcast clouds   \n",
      "13449 2024-04-18 21:00:00        3.79         8.35  overcast clouds   \n",
      "13450 2024-04-18 21:00:00        3.79         8.35  overcast clouds   \n",
      "13451 2024-04-18 21:00:00        3.79         8.35  overcast clouds   \n",
      "\n",
      "       station_id  bike_stands  month  day  hour  weekday_num  \n",
      "0              42           30      4   14     0            7  \n",
      "1              30           20      4   14     0            7  \n",
      "2              54           33      4   14     0            7  \n",
      "3             108           35      4   14     0            7  \n",
      "4              20           30      4   14     0            7  \n",
      "...           ...          ...    ...  ...   ...          ...  \n",
      "13447          39           20      4   18    21            4  \n",
      "13448          83           40      4   18    21            4  \n",
      "13449          92           40      4   18    21            4  \n",
      "13450          21           30      4   18    21            4  \n",
      "13451          88           30      4   18    21            4  \n",
      "\n",
      "[13452 rows x 10 columns]\n"
     ]
    },
    {
     "name": "stderr",
     "output_type": "stream",
     "text": [
      "c:\\Users\\Christian\\Desktop\\CycleHub\\CycleHub\\flask_app\\ml_model.py:50: FutureWarning: 'H' is deprecated and will be removed in a future version, please use 'h' instead.\n",
      "  hourly_range = pd.date_range(start=start_date, end=end_date, freq='H')\n",
      "c:\\Users\\Christian\\Desktop\\CycleHub\\CycleHub\\flask_app\\ml_model.py:53: FutureWarning: DataFrame.interpolate with object dtype is deprecated and will raise in a future version. Call obj.infer_objects(copy=False) before interpolating instead.\n",
      "  df_interpolated = df.interpolate(method='linear')\n",
      "c:\\Users\\Christian\\Desktop\\CycleHub\\CycleHub\\flask_app\\ml_model.py:54: FutureWarning: Series.fillna with 'method' is deprecated and will raise in a future version. Use obj.ffill() or obj.bfill() instead.\n",
      "  df_interpolated['description'] = df_interpolated['description'].fillna(method='ffill')\n"
     ]
    }
   ],
   "source": [
    "from ml_model import df3\n",
    "import pickle\n",
    "\n",
    "\n",
    "def filter_dataframe(df, weekday, hour, station_id):\n",
    "    filtered_df = df[(df['hour'] == hour) & (df['weekday_num'] == weekday) & (df['station_id'] == station_id)].copy()\n",
    "    print(filtered_df[['bike_stands']])\n",
    "    with open('your_model.pkl', 'rb') as file:\n",
    "        model = pickle.load(file)\n",
    "    predictions = model.predict(filtered_df).round()\n",
    "    return predictions\n",
    "    # return filtered_df\n",
    "\n",
    "# print(df3)\n",
    "filtered_data = filter_dataframe(df3, weekday=3 , hour=10, station_id=11)\n",
    "# print(filtered_data)\n",
    "# df3.head(5)"
   ]
  }
 ],
 "metadata": {
  "kernelspec": {
   "display_name": "Python 3",
   "language": "python",
   "name": "python3"
  },
  "language_info": {
   "codemirror_mode": {
    "name": "ipython",
    "version": 3
   },
   "file_extension": ".py",
   "mimetype": "text/x-python",
   "name": "python",
   "nbconvert_exporter": "python",
   "pygments_lexer": "ipython3",
   "version": "3.12.3"
  }
 },
 "nbformat": 4,
 "nbformat_minor": 2
}
