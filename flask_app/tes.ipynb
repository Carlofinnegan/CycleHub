{
 "cells": [
  {
   "cell_type": "code",
   "execution_count": 44,
   "metadata": {},
   "outputs": [
    {
     "name": "stdout",
     "output_type": "stream",
     "text": [
      "             time_of_day  wind_speed  temperature       description  \\\n",
      "0    2024-04-13 15:00:00    9.100000    13.180000  scattered clouds   \n",
      "1    2024-04-13 15:00:00    9.100000    13.180000  scattered clouds   \n",
      "2    2024-04-13 15:00:00    9.100000    13.180000  scattered clouds   \n",
      "3    2024-04-13 15:00:00    9.100000    13.180000  scattered clouds   \n",
      "4    2024-04-13 15:00:00    9.100000    13.180000  scattered clouds   \n",
      "...                  ...         ...          ...               ...   \n",
      "2731 2024-04-14 14:00:00    6.393333     8.783333     broken clouds   \n",
      "2732 2024-04-14 14:00:00    6.393333     8.783333     broken clouds   \n",
      "2733 2024-04-14 14:00:00    6.393333     8.783333     broken clouds   \n",
      "2734 2024-04-14 14:00:00    6.393333     8.783333     broken clouds   \n",
      "2735 2024-04-14 14:00:00    6.393333     8.783333     broken clouds   \n",
      "\n",
      "      station_id  bike_stands  month  day  hour  weekday_num  \n",
      "0             42           30      4   13    15            6  \n",
      "1             30           20      4   13    15            6  \n",
      "2             54           33      4   13    15            6  \n",
      "3            108           35      4   13    15            6  \n",
      "4             20           30      4   13    15            6  \n",
      "...          ...          ...    ...  ...   ...          ...  \n",
      "2731          39           20      4   14    14            7  \n",
      "2732          83           40      4   14    14            7  \n",
      "2733          92           40      4   14    14            7  \n",
      "2734          21           30      4   14    14            7  \n",
      "2735          88           30      4   14    14            7  \n",
      "\n",
      "[2736 rows x 10 columns]\n"
     ]
    }
   ],
   "source": [
    "from ml_model import df3\n",
    "import pickle\n",
    "\n",
    "\n",
    "def filter_dataframe(df, hour, station_id):\n",
    "    filtered_df = df[(df['hour'] == hour) & (df['station_id'] == station_id)].copy()\n",
    "    print(filtered_df[['bike_stands']])\n",
    "    with open('your_model.pkl', 'rb') as file:\n",
    "        model = pickle.load(file)\n",
    "    predictions = model.predict(filtered_df).round()\n",
    "    return predictions\n",
    "    # return filtered_df\n",
    "\n",
    "print(df3)\n",
    "# filtered_data = filter_dataframe(df3, hour=10, station_id=11)\n",
    "# print(filtered_data)\n",
    "# df3.head(5)"
   ]
  },
  {
   "cell_type": "code",
   "execution_count": 2,
   "metadata": {},
   "outputs": [
    {
     "name": "stdout",
     "output_type": "stream",
     "text": [
      "2024-04-14 15:00:00\n"
     ]
    }
   ],
   "source": [
    "# from datetime import datetime, timedelta\n",
    "\n",
    "# def get_datetime(predict_hour, predict_day):\n",
    "#     # Get current date\n",
    "#     current_date = datetime.now().date()\n",
    "\n",
    "#     # Calculate the difference in days between the current day and the desired day\n",
    "#     days_difference = predict_day - current_date.weekday()\n",
    "\n",
    "#     # If the desired day is before the current day, add 7 days to get the next occurrence of the desired day\n",
    "#     if days_difference <= 0:\n",
    "#         days_difference += 7\n",
    "\n",
    "#     # Calculate the date of the desired day\n",
    "#     desired_date = current_date + timedelta(days=days_difference)\n",
    "\n",
    "#     # Combine the desired date with the predicted hour to create a datetime object\n",
    "#     predicted_datetime = datetime(desired_date.year, desired_date.month, desired_date.day, predict_hour)\n",
    "\n",
    "#     return predicted_datetime\n",
    "\n",
    "# # Example usage:\n",
    "# predict_hour = 15  # 3pm\n",
    "# predict_day = 6    # Saturday\n",
    "# result = get_datetime(predict_hour, predict_day)\n",
    "# print(result)"
   ]
  }
 ],
 "metadata": {
  "kernelspec": {
   "display_name": "Python 3",
   "language": "python",
   "name": "python3"
  },
  "language_info": {
   "codemirror_mode": {
    "name": "ipython",
    "version": 3
   },
   "file_extension": ".py",
   "mimetype": "text/x-python",
   "name": "python",
   "nbconvert_exporter": "python",
   "pygments_lexer": "ipython3",
   "version": "3.12.3"
  }
 },
 "nbformat": 4,
 "nbformat_minor": 2
}
